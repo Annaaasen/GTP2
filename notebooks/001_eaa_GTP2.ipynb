{
 "cells": [
  {
   "cell_type": "code",
   "execution_count": 3,
   "metadata": {},
   "outputs": [],
   "source": [
    "from aitextgen import aitextgen"
   ]
  },
  {
   "cell_type": "code",
   "execution_count": 4,
   "metadata": {},
   "outputs": [
    {
     "data": {
      "application/vnd.jupyter.widget-view+json": {
       "model_id": "680619600134469791ed31484e98fa9f",
       "version_major": 2,
       "version_minor": 0
      },
      "text/plain": [
       "HBox(children=(FloatProgress(value=0.0, description='Downloading', max=665.0, style=ProgressStyle(description_…"
      ]
     },
     "metadata": {},
     "output_type": "display_data"
    },
    {
     "name": "stdout",
     "output_type": "stream",
     "text": [
      "\n"
     ]
    },
    {
     "data": {
      "application/vnd.jupyter.widget-view+json": {
       "model_id": "d408bf2e50054090b6620542c9c5e561",
       "version_major": 2,
       "version_minor": 0
      },
      "text/plain": [
       "HBox(children=(FloatProgress(value=0.0, description='Downloading', max=548118077.0, style=ProgressStyle(descri…"
      ]
     },
     "metadata": {},
     "output_type": "display_data"
    },
    {
     "name": "stdout",
     "output_type": "stream",
     "text": [
      "\n",
      "The best way to get your hands on a copy of this is to pick it up from your local bookstore, or you can find it at your local bookstores.\n",
      "\n",
      "Here's an interesting point: if you're a first-time reader, getting your hands on a book of the year is always a good idea.\n",
      "\n",
      "But if you've been lucky enough to get a copy of a book of the year in your local bookstore, you'll find that there's not much you can do about it.\n",
      "\n",
      "That's because \"first-time\" readers are often not well-versed in the history of the book. If they're looking for information about a book of the year, they'll probably expect other books of the year as well.\n",
      "\n",
      "This is because they're not well-versed in the history of the book.\n",
      "\n",
      "You can look at any book of the year: a book of the year, a book of the year series, a book of the year catalog, or a book of the year catalog.\n",
      "\n",
      "To check if a book of the year is available, you can check out the Books tab on the Start Page of the Book app.\n",
      "\n",
      "You can also look at any book of the year series:\n",
      "What If My Doctor Was A Man?\n",
      "\n",
      "If you've ever had a woman come into your office with a question or thought that is difficult to answer, you know that it's possible. Sometimes it's the truth. If you know that your doctor is a man, then you can give her the help she need.\n",
      "\n",
      "The best way to help a woman understand this is to get her to give you a look at her anatomy. If you want to tell her how it's done\n",
      "==========\n",
      "BETHLEHEM (Ma'an) -- Israeli forces fired artillery shells at Palestinian militants in Hebron on Monday, Palestinian officials said.\n",
      "\n",
      "The army said the latest round of artillery shells hit militants in the occupied West Bank village of al-Shayrat in the northern Gaza Strip, and targeted Palestinian militants who were trying to flee the area.\n",
      "\n",
      "The Israeli air force said it fired the shells from an armored vehicle in the town of Beit Hanoun, located about\n",
      "==========\n",
      "\"I'm going to have the whole team in my office because I'm so excited to be there.\"\n",
      "\n",
      "That wasn't all.\n",
      "\n",
      "In fact, after a long day of meetings with team officials, the team was finally able to come up with a plan for the weekend.\n",
      "\n",
      "A week later, the team was off to a good start, having won its first game in seven games since 2009.\n",
      "\n",
      "\"It's been an amazing offseason for us,\" said Hall\n",
      "\u001b[1mI believe in unicorns because\u001b[0m I believe in unicorns,\" he said. \"I mean, I think in many ways these guys are great with unicorns.\"\n",
      "\n",
      "As for Trump, he said he has no plans to do so.\n",
      "\n",
      "\"I think he's going to go after people who are in trouble for doing what he's doing,\" he said. \"And that's a good thing for America and for the country and for the country.\"\n",
      "==========\n",
      "\u001b[1mI believe in unicorns because\u001b[0m that's the only way they're going to be accepted by the community.\"\n",
      "==========\n",
      "\u001b[1mI believe in unicorns because\u001b[0m they're the only thing you can actually see,\" said the man.\n",
      "\n",
      "The man was asked if he knew any unicorns. He replied \"They're like a lot of other human beings that live in this world.\"\n",
      "\n",
      "The woman said her husband had been at a party, and the two exchanged a few words.\n",
      "\n",
      "The man said he was \"a bit tired\" and said he was \"not sure what to do\" after going to the hotel\n"
     ]
    },
    {
     "data": {
      "application/vnd.jupyter.widget-view+json": {
       "model_id": "3c8aacaeded94dbda71ec52300d505f1",
       "version_major": 2,
       "version_minor": 0
      },
      "text/plain": [
       "HBox(children=(FloatProgress(value=0.0, max=10.0), HTML(value='')))"
      ]
     },
     "metadata": {},
     "output_type": "display_data"
    },
    {
     "name": "stdout",
     "output_type": "stream",
     "text": [
      "\n"
     ]
    }
   ],
   "source": [
    "ai = aitextgen()\n",
    "\n",
    "ai.generate()\n",
    "ai.generate(n=3, max_length=100)\n",
    "ai.generate(n=3, prompt=\"I believe in unicorns because\", max_length=100)\n",
    "ai.generate_to_file(n=10, prompt=\"I believe in unicorns because\", max_length=100, temperature=1.2)"
   ]
  },
  {
   "cell_type": "code",
   "execution_count": null,
   "metadata": {},
   "outputs": [],
   "source": []
  }
 ],
 "metadata": {
  "kernelspec": {
   "display_name": "Python 3",
   "language": "python",
   "name": "python3"
  },
  "language_info": {
   "codemirror_mode": {
    "name": "ipython",
    "version": 3
   },
   "file_extension": ".py",
   "mimetype": "text/x-python",
   "name": "python",
   "nbconvert_exporter": "python",
   "pygments_lexer": "ipython3",
   "version": "3.7.3"
  }
 },
 "nbformat": 4,
 "nbformat_minor": 2
}
