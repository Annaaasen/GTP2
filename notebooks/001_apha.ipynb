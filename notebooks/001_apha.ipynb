{
 "cells": [
  {
   "cell_type": "markdown",
   "metadata": {},
   "source": [
    "# Oppgave 2: Teste modellens troverdighet "
   ]
  },
  {
   "cell_type": "markdown",
   "metadata": {},
   "source": [
    "For at en språkmodell skal kunne benyttes til å ta over noe av menneskers arbeidsoppgaver, er modellens språklige evner nødt til å utad tilsvare et menneskets. Vi ønsket derfor å utforske om vår modell infrir dette kravet. For å gjennomføre en slik analyse benyttet vi oss av en lavterskel \"Turingtest\". Denne gikk ut på at vi valgte ut fire egenproduserte og ett modellprodusert sitat. Vi sendte så alle disse sitatene til en gruppe mennesker som skulle gjette hvilket av sitatene modellen hadde skrevet. Siden de nyeste språkmodellene angivelig har blitt bedre enn GPT2, ga vi modellen vår den fordelen at vi valgte dens mest troverdig sitat blant noen forsøk. Det var også viktig for oss å, i størst mulig grad, unngå bias i våre sitater for å hjelpe eller jobbe i mot modellen, så vi gjennomførte eksperimentet i rekkefølgen: bestemme tema, skrive egne sitater, velge sitat fra modellen, lese hverandres sitater. Grunnet modellens prestasjon på de ulike områdene, valgte vi å teste modellens egenskaper på promptet \"Climate change is\". \n",
    "\n",
    "Vi sendte ut skjemaet hvor sitat nummer $4$ var skrevet av modellen (se alle sitatene nederst i dette dokumentet). Resultatene fra de ulike individene adderte vi manuelt før vi la det inn i en python dictionary og videre i en pandas dataframe. Funnene er representert i et bar-plot.\n"
   ]
  },
  {
   "cell_type": "code",
   "execution_count": 1,
   "metadata": {},
   "outputs": [],
   "source": [
    "import numpy as np \n",
    "import matplotlib.pyplot as plt \n",
    "import pandas as pd"
   ]
  },
  {
   "cell_type": "code",
   "execution_count": 2,
   "metadata": {},
   "outputs": [],
   "source": [
    "data = {\"Før trening\":[5,4,3,7,1]}\n",
    "df_turing = pd.DataFrame(data=data, index = [\"Human1\" , \"Human2\" , \"Human3\", \"Model\", \"Human4\"])"
   ]
  },
  {
   "cell_type": "code",
   "execution_count": 3,
   "metadata": {},
   "outputs": [
    {
     "data": {
      "image/png": "[encoded data removed]",
      "text/plain": [
       "<Figure size 864x432 with 1 Axes>"
      ]
     },
     "metadata": {
      "needs_background": "light"
     },
     "output_type": "display_data"
    }
   ],
   "source": [
    "my_colors = ['turquoise', 'turquoise', 'turquoise', 'cornflowerblue', 'turquoise']\n",
    "\n",
    "plt.figure(figsize=(12,6))\n",
    "df_turing[\"Før trening\"].plot.bar(color=my_colors)\n",
    "plt.title(\"Før trening\")\n",
    "plt.savefig(\"Før_trening.png\")\n",
    "plt.show()"
   ]
  },
  {
   "cell_type": "markdown",
   "metadata": {},
   "source": [
    "Her kan vi se at modellens sitat ble valgt oftere enn noen av de andre sitatene. Likevel er tilsynelatende andelen av riktige gjett ikke så stor. "
   ]
  },
  {
   "cell_type": "code",
   "execution_count": 4,
   "metadata": {},
   "outputs": [
    {
     "data": {
      "image/png": "[encoded data removed]",
      "text/plain": [
       "<Figure size 432x288 with 1 Axes>"
      ]
     },
     "metadata": {
      "needs_background": "light"
     },
     "output_type": "display_data"
    }
   ],
   "source": [
    "andel = lambda kol: df_turing.iloc[3][kol]/df_turing[kol].sum()\n",
    "\n",
    "df_turing.loc[\"Andel riktig\"] = [andel(\"Før trening\")]\n",
    "\n",
    "#Plotter:\n",
    "df_turing.loc[\"Andel riktig\"].plot.bar(color=[\"violet\",\"darkviolet\"], \n",
    "                                       label=f\"{df_turing.loc['Andel riktig']['Før trening']:.2} %\")\n",
    "plt.title(\"Andel riktige gjett\")\n",
    "plt.ylim([0,1])\n",
    "plt.savefig(\"Andel_før_trening.png\")\n",
    "plt.legend()\n",
    "plt.show()"
   ]
  },
  {
   "cell_type": "markdown",
   "metadata": {},
   "source": [
    "<br>\n",
    "Til vår overraskelse var det altså ikke mer enn $34 \\%$ av de $20$ forsøkspersonene som gjettet riktig. Dette er bedre enn den \"perfekte\" tilfeldige gjettingen med $20 \\%$ på hver av kategoriene, men ikke med så veldig mye. Det er ikke urimelig å anta at med litt mer trening vil modellen kunne komme på et nivå hvor det å skille ut det modellproduserte sitatet er tilsvarende tilfeldige gjett. "
   ]
  },
  {
   "cell_type": "code",
   "execution_count": null,
   "metadata": {},
   "outputs": [],
   "source": []
  },
  {
   "cell_type": "code",
   "execution_count": null,
   "metadata": {},
   "outputs": [],
   "source": []
  },
  {
   "cell_type": "code",
   "execution_count": null,
   "metadata": {},
   "outputs": [],
   "source": []
  },
  {
   "cell_type": "code",
   "execution_count": null,
   "metadata": {},
   "outputs": [],
   "source": []
  },
  {
   "cell_type": "markdown",
   "metadata": {},
   "source": [
    "# Oppgave 3 "
   ]
  },
  {
   "cell_type": "markdown",
   "metadata": {},
   "source": [
    "Selv om den forrige modellen presterete bedre enn forventet, ønsket vi å gjøre et forsøk på å trene modellen enda bedre. Vi ønsket først å finne noen datasett som var direkte knytte til klima, når kaggle sviktet oss på dette området, viste seg vanskelig å et skaffe et stort nok datasett uten omfattende kunnskap om scraping og mer datakraft. \n",
    "\n",
    "- ERIK: kanskje du kan legge inn noen av forsøkene våre her\n",
    "\n",
    "Vi gikk til slutt over til å forsøke å gjøre det genrelle språket i modellen bedre. Det ble i denne prosessen også interessant å se på hvor mye de ulike datasettene påvirket modellen, og hvordan den forandret \"personlighet\" etter treningen.  "
   ]
  },
  {
   "cell_type": "code",
   "execution_count": null,
   "metadata": {},
   "outputs": [],
   "source": []
  },
  {
   "cell_type": "code",
   "execution_count": null,
   "metadata": {},
   "outputs": [],
   "source": []
  },
  {
   "cell_type": "code",
   "execution_count": null,
   "metadata": {},
   "outputs": [],
   "source": []
  },
  {
   "cell_type": "code",
   "execution_count": null,
   "metadata": {},
   "outputs": [],
   "source": []
  },
  {
   "cell_type": "markdown",
   "metadata": {},
   "source": [
    "# Oppgave 4: Teste virkningen av finjusteringen "
   ]
  },
  {
   "cell_type": "code",
   "execution_count": 5,
   "metadata": {},
   "outputs": [],
   "source": [
    "df_turing = df_turing.drop('Andel riktig')\n",
    "\n",
    "data_etter_trening = [6,2,2,9,1]\n",
    "df_turing[\"Etter trening\"] = data_etter_trening"
   ]
  },
  {
   "cell_type": "code",
   "execution_count": 6,
   "metadata": {},
   "outputs": [
    {
     "data": {
      "image/png": "[encoded data removed]",
      "text/plain": [
       "<Figure size 864x432 with 2 Axes>"
      ]
     },
     "metadata": {
      "needs_background": "light"
     },
     "output_type": "display_data"
    }
   ],
   "source": [
    "plt.figure(figsize=(12,6))\n",
    "plt.subplot(1,2,1)\n",
    "df_turing[\"Før trening\"].plot.bar(color=my_colors)\n",
    "plt.title(\"Før trening\")\n",
    "plt.ylim([0,10])\n",
    "\n",
    "plt.subplot(1,2,2)\n",
    "df_turing[\"Etter trening\"].plot.bar(color=my_colors)\n",
    "plt.title(\"Etter trening\")\n",
    "plt.ylim([0,10])\n",
    "\n",
    "plt.savefig(\"Begge.png\")\n",
    "plt.show()"
   ]
  },
  {
   "cell_type": "markdown",
   "metadata": {},
   "source": [
    "KOMMENTER"
   ]
  },
  {
   "cell_type": "code",
   "execution_count": 25,
   "metadata": {},
   "outputs": [
    {
     "name": "stdout",
     "output_type": "stream",
     "text": [
      "Før trening      0.344080\n",
      "Etter trening    0.440307\n",
      "Name: Andel riktig, dtype: float64\n"
     ]
    },
    {
     "data": {
      "image/png": "[encoded data removed]",
      "text/plain": [
       "<Figure size 432x288 with 1 Axes>"
      ]
     },
     "metadata": {
      "needs_background": "light"
     },
     "output_type": "display_data"
    }
   ],
   "source": [
    "print(df_turing.loc[\"Andel riktig\"])\n",
    "\n",
    "df_turing.loc[\"Andel riktig\"] = [andel(\"Før trening\"),andel(\"Etter trening\")]\n",
    "df_turing.loc[\"Andel riktig\"].plot.bar(color=[\"violet\",\"darkviolet\"])# , label=[f\"{df_turing.loc['Andel riktig']['Før trening']:.2} %\", f\"{df_turing.loc['Andel riktig']['Etter trening']:.2} %\"])\n",
    "plt.title(\"Andel riktige gjett\")\n",
    "plt.ylim([0,1])\n",
    "plt.legend()\n",
    "plt.savefig(\"Andel_begge.png\")\n",
    "plt.show()"
   ]
  },
  {
   "cell_type": "markdown",
   "metadata": {},
   "source": [
    "KOMMENTER"
   ]
  },
  {
   "cell_type": "code",
   "execution_count": 11,
   "metadata": {},
   "outputs": [
    {
     "data": {
      "text/plain": [
       "<matplotlib.legend.Legend at 0x7ff58895ac10>"
      ]
     },
     "execution_count": 11,
     "metadata": {},
     "output_type": "execute_result"
    },
    {
     "data": {
      "image/png": "[encoded data removed]",
      "text/plain": [
       "<Figure size 432x288 with 1 Axes>"
      ]
     },
     "metadata": {
      "needs_background": "light"
     },
     "output_type": "display_data"
    }
   ],
   "source": [
    "x = np.arange(4)\n",
    "y = np.arange(4)\n",
    "plt.bar(x,y)\n",
    "plt.legend([1,2,3,4])\n",
    "plt.legend([2])"
   ]
  },
  {
   "cell_type": "code",
   "execution_count": null,
   "metadata": {},
   "outputs": [],
   "source": []
  },
  {
   "cell_type": "code",
   "execution_count": null,
   "metadata": {},
   "outputs": [],
   "source": []
  },
  {
   "cell_type": "markdown",
   "metadata": {},
   "source": []
  },
  {
   "cell_type": "code",
   "execution_count": null,
   "metadata": {},
   "outputs": [],
   "source": []
  },
  {
   "cell_type": "code",
   "execution_count": null,
   "metadata": {},
   "outputs": [],
   "source": []
  },
  {
   "cell_type": "markdown",
   "metadata": {},
   "source": [
    "### Skjema sendt ut før trening innelholdt disse utsagnene:\n",
    "\n",
    "1. **HUMAN 1** Climate change is the biggest challenge for humanity in the next decade. To overcome it we must work together. This crisis arose due to an unlimited expansion in a limited environment – our planet. Consequently, humanity has managed to put a significant impact on the global climate. While the climate does change by itself, humanity has accelerated this pace immensely. The release of greenhouse gases has caused the poles to melt, and in effect, the water level is rising at an unprecedented rate, causing millions of people to flee from their homes and livelihoods. \n",
    "\n",
    "2. **HUMAN 2** Climate change is the emission of greenhouse gases and global warming. Climate change is our generation’s most prominent and crucial challenge. We are facing a situation where the solution requires drastic changes in the way we live our lives and what habits we have. It is crucial that we become less dependent on fossil fuels, and rather make greater investments in green energy. Extensive international cooperation is absolutely necessary to achieve the goals we have set ourselves, and for future generations to also enjoy the planet.\n",
    "\n",
    "\n",
    "\n",
    "3. **HUMAN 3** Climate change is a dangerous pandemic, that has swept through the population the last 100 years. Though not a real pandemic, in the literary sense, the people’s mindset, that is the prelude to the actual climate change, has spread like wildfire throughout the globe, the last couple of centuries. As a result, as the ocean rises, as the forests burn down, as the crops dries out and as houses are destroyed by hurricanes, humans are driven from their homes. Thus, the climate change, is also a human change.\n",
    "\n",
    "\n",
    "\n",
    "4. **MODEL** “Climate change is an issue that we know and will need to address”, said U.S. National Climate Assessment Director for Climate Change Science and Policy, Tom Waring. \"The fact is that the amount of carbon dioxide released from this Earth's atmosphere has been increasing by about one-third over the last 50 years, and we must work together to mitigate that trend.\" To combat the problem, the U.S. and other developed nations are taking steps to regulate greenhouse gases as well.\n",
    "\n",
    "\n",
    "\n",
    "5. **HUMAN 5** Climate change is our generation’s greatest crisis. To resolve this crisis, we must focus all our time and resources on changing our current way of life. We have to live more consciously and make better choices. Although many individuals are doing what they can to help this cause, the initiative from the people in charge is not nearly good enough. Greta Thuneberg said “I want you to act as if your house is on fire. Because it is.” "
   ]
  },
  {
   "cell_type": "markdown",
   "metadata": {},
   "source": [
    "### Skjema etter trening byttet ut utsagn fire fra skjema over med \n",
    "4. **MODEL** noe "
   ]
  },
  {
   "cell_type": "code",
   "execution_count": null,
   "metadata": {},
   "outputs": [],
   "source": []
  },
  {
   "cell_type": "code",
   "execution_count": null,
   "metadata": {},
   "outputs": [],
   "source": []
  },
  {
   "cell_type": "code",
   "execution_count": null,
   "metadata": {},
   "outputs": [],
   "source": []
  },
  {
   "cell_type": "code",
   "execution_count": null,
   "metadata": {},
   "outputs": [],
   "source": []
  },
  {
   "cell_type": "code",
   "execution_count": null,
   "metadata": {},
   "outputs": [],
   "source": []
  },
  {
   "cell_type": "code",
   "execution_count": null,
   "metadata": {},
   "outputs": [],
   "source": []
  },
  {
   "cell_type": "code",
   "execution_count": null,
   "metadata": {},
   "outputs": [],
   "source": []
  },
  {
   "cell_type": "code",
   "execution_count": null,
   "metadata": {},
   "outputs": [],
   "source": []
  },
  {
   "cell_type": "code",
   "execution_count": null,
   "metadata": {},
   "outputs": [],
   "source": []
  },
  {
   "cell_type": "code",
   "execution_count": null,
   "metadata": {},
   "outputs": [],
   "source": []
  },
  {
   "cell_type": "code",
   "execution_count": null,
   "metadata": {},
   "outputs": [],
   "source": []
  },
  {
   "cell_type": "code",
   "execution_count": null,
   "metadata": {},
   "outputs": [],
   "source": []
  }
 ],
 "metadata": {
  "kernelspec": {
   "display_name": "Python 3",
   "language": "python",
   "name": "python3"
  },
  "language_info": {
   "codemirror_mode": {
    "name": "ipython",
    "version": 3
   },
   "file_extension": ".py",
   "mimetype": "text/x-python",
   "name": "python",
   "nbconvert_exporter": "python",
   "pygments_lexer": "ipython3",
   "version": "3.8.5"
  }
 },
 "nbformat": 4,
 "nbformat_minor": 4
}
